{
 "cells": [
  {
   "cell_type": "code",
   "execution_count": null,
   "id": "97b92c17",
   "metadata": {},
   "outputs": [],
   "source": [
    "import numpy as np\n",
    "import matplotlib.pyplot as plt\n",
    "import pandas as pd\n",
    "import os\n",
    "import plotly.express as px\n",
    "from sklearn.decomposition import PCA\n",
    "from sklearn.preprocessing import StandardScaler\n",
    "from sklearn.preprocessing import MinMaxScaler\n",
    "from sklearn.feature_selection import SelectKBest\n",
    "from sklearn.feature_selection import f_regression\n",
    "from numpy import set_printoptions\n",
    "from sklearn.preprocessing import MinMaxScaler\n",
    "import plotly.graph_objects as go\n",
    "import joblib\n",
    "\n",
    "from keras.models import Sequential\n",
    "from keras.layers import Dense\n",
    "from keras.layers import LSTM\n",
    "from keras.layers import Dropout\n",
    "from keras.optimizers import SGD\n",
    "import tensorflow as tf\n",
    "\n",
    "from sklearn.metrics import mean_absolute_error\n",
    "from sklearn.metrics import mean_squared_error\n",
    "from sklearn.metrics import mean_absolute_percentage_error\n",
    "from sklearn.metrics import r2_score"
   ]
  },
  {
   "cell_type": "markdown",
   "id": "56648ec5",
   "metadata": {},
   "source": [
    "### Data processing "
   ]
  },
  {
   "cell_type": "code",
   "execution_count": null,
   "id": "76ade8b6",
   "metadata": {},
   "outputs": [],
   "source": [
    "#import data\n",
    "os.chdir(r\"\") #insert path\n",
    "dataset = pd.read_excel('Data_Protocol2_TS3.xlsx') # file name \n",
    "\n",
    "#data split \n",
    "dataset_train = dataset.loc[:int(0.75*len(dataset))]\n",
    "dataset_test = dataset.loc[int(0.75*len(dataset)):]"
   ]
  },
  {
   "cell_type": "code",
   "execution_count": null,
   "id": "7082e334",
   "metadata": {},
   "outputs": [],
   "source": [
    "# define the features : EE ML-0: all features except COSMED features, EE ML-1: ten best feautures, \n",
    "# EE ML-2: best features from wearables only (n<10)\n",
    "X = dataset_train.drop(columns=['RR', 'VO2', 'VCO2', 'TDEE', 'PRO', 'FAT', 'CHO', 'npRQ', 'timestep',\n",
    "       'TDEE_avg']).values\n",
    "y = dataset_train[['TDEE_avg']].values\n",
    "dataset_train = dataset_train.drop(columns=['RR', 'VO2', 'VCO2', 'TDEE', 'PRO', 'FAT', 'CHO', 'npRQ', 'timestep',\n",
    "       'TDEE_avg'])"
   ]
  },
  {
   "cell_type": "code",
   "execution_count": null,
   "id": "8fa9523f",
   "metadata": {},
   "outputs": [],
   "source": [
    "#data scaling\n",
    "\n",
    "sc_x = MinMaxScaler(feature_range = (0, 1))\n",
    "sc_y = MinMaxScaler(feature_range = (0, 1))\n",
    "X_scaled = sc_x.fit_transform(X)\n",
    "y_scaled = sc_y.fit_transform(y)"
   ]
  },
  {
   "cell_type": "code",
   "execution_count": null,
   "id": "7e96f7bc",
   "metadata": {},
   "outputs": [],
   "source": [
    "# reshape the input data in a 3D shape for the LSTM model\n",
    "X_train = []\n",
    "y_train = []\n",
    "prvs_timesteps =180 # number of previous steps to look at \n",
    "for i in range(prvs_timesteps, len(X_scaled)):\n",
    "    X_train.append(X_scaled[i-prvs_timesteps:i, :])\n",
    "    y_train.append(y_scaled[i, 0])\n",
    "X_train, y_train = np.array(X_train), np.array(y_train)\n",
    "X_train = np.reshape(X_train, (X_train.shape[0], X_train.shape[1], X_train.shape[2]))"
   ]
  },
  {
   "cell_type": "code",
   "execution_count": null,
   "id": "b42cd56c",
   "metadata": {},
   "outputs": [],
   "source": [
    "#define the test data with the same features than for the training and reshape it in a 3D format \n",
    "\n",
    "real_tdee = dataset_test[[\"TDEE_avg\"]].values\n",
    "dataset_test = dataset_test.drop(columns=['RR', 'VO2', 'VCO2', 'TDEE', 'PRO', 'FAT', 'CHO', 'npRQ', 'timestep',\n",
    "       'TDEE_avg'])\n",
    "dataset_total = pd.concat((dataset_train, dataset_test), axis = 0)\n",
    "inputs = dataset_total[len(dataset_total) - len(dataset_test) - prvs_timesteps:].values\n",
    "inputs = inputs.reshape(-1,X_train.shape[2])\n",
    "inputs = sc_x.transform(inputs)\n",
    "X_test = []\n",
    "for i in range(prvs_timesteps, len(inputs)):\n",
    "    X_test.append(inputs[i-prvs_timesteps:i, :])\n",
    "X_test = np.array(X_test)\n",
    "X_test = np.reshape(X_test, (X_test.shape[0], X_test.shape[1], X_test.shape[2]))"
   ]
  },
  {
   "cell_type": "markdown",
   "id": "8db66e9e",
   "metadata": {},
   "source": [
    "### LSTM modeling"
   ]
  },
  {
   "cell_type": "code",
   "execution_count": null,
   "id": "11a3ed47",
   "metadata": {},
   "outputs": [],
   "source": [
    "rsquared = 0\n",
    "MAE =0\n",
    "MAPE =0\n",
    "MSE = 0\n",
    "RMSE = 0\n",
    "prediction = [] # keeps all the prediction in the list\n",
    "n=10 # number of times we train the model\n",
    "\n",
    "for i in range(0,n): \n",
    "    \n",
    "    #LSTM model\n",
    "    regressor = Sequential()\n",
    "    regressor.add(LSTM(units = 50, return_sequences = True, input_shape = (X_train.shape[1], X_train.shape[2])))\n",
    "    regressor.add(Dropout(0.2))\n",
    "    regressor.add(LSTM(units = 50, return_sequences = True))\n",
    "    regressor.add(Dropout(0.2))\n",
    "    regressor.add(LSTM(units = 50, return_sequences = True))\n",
    "    regressor.add(Dropout(0.2))\n",
    "    regressor.add(LSTM(units = 50))\n",
    "    regressor.add(Dropout(0.2))\n",
    "    regressor.add(Dense(units = 1))\n",
    "    regressor.compile(optimizer = 'adam', loss = 'mean_squared_error')\n",
    "    \n",
    "    #Fitting\n",
    "    history = regressor.fit(X_train, y_train, epochs = 50, batch_size = 100, verbose = 0)\n",
    "    \n",
    "    #Prediction over test set\n",
    "    predicted_tdee = regressor.predict(X_test) \n",
    "    \n",
    "    #inverse scaling of the prediction\n",
    "    predicted_tdee = sc_y.inverse_transform(predicted_tdee)\n",
    "    prediction.append(predicted_tdee)\n",
    "   \n",
    "    #metrics computation\n",
    "    rsq = round(r2_score(real_tdee/1400, predicted_tdee/1400),4)\n",
    "    mae = round(mean_absolute_error(real_tdee/1400, predicted_tdee/1400),4)\n",
    "    mape = round(mean_absolute_percentage_error(real_tdee/1400, predicted_tdee/1400),4)\n",
    "    mse = round(mean_squared_error(real_tdee/1400, predicted_tdee/1400, squared=True),4)\n",
    "    rmse = round(mean_squared_error(real_tdee/1400, predicted_tdee/1400, squared=False),4)\n",
    "\n",
    "    print(\"R-Squared: \"+str(rsq))\n",
    "    rsquared += rsq\n",
    "    print(\"Mean Absolute Error: \"+str(mae))\n",
    "    MAE += mae\n",
    "    print(\"Mean Absolute Percentage Error: \"+str(mape))\n",
    "    MAPE += mape\n",
    "    print(\"Mean Squared Error: \"+str(mse))\n",
    "    MSE += mse\n",
    "    print(\"Root Mean Squared Error: \"+str(rmse))\n",
    "    RMSE += rmse\n",
    "\n",
    "# Compute the average metrics of the predicitons \n",
    "print('Mean values')\n",
    "print(\"R-Squared: \"+str(rsquared/n))\n",
    "print(\"Mean Absolute Error: \"+str(MAE/n))\n",
    "print(\"Mean Absolute Percentage Error: \"+str(MAPE/n))\n",
    "print(\"Mean Squared Error: \"+str(MSE/))\n",
    "print(\"Root Mean Squared Error: \"+str(RMSE/n))"
   ]
  },
  {
   "cell_type": "code",
   "execution_count": null,
   "id": "8d859c6a",
   "metadata": {},
   "outputs": [],
   "source": [
    "#Put the results in a dataframe and save it in xlsx file\n",
    "\n",
    "time = pd.Series(np.arange(1,len(real_tdee)+1,1))\n",
    "comp = pd.DataFrame({'time':time, 'real_TDEE':real_tdee.flatten()/1400, 'predicted_TDEE':np.mean(prediction2, axis = 0).flatten()/1400,\n",
    "                    '1':prediction2[0].flatten()/1400,'2':prediction2[1].flatten()/1400,'3':prediction2[2].flatten()/1400,'4':prediction2[3].flatten()/1400,\n",
    "                    '5':prediction2[4].flatten()/1400,'6':prediction2[5].flatten()/1400,'7':prediction2[6].flatten()/1400,'8':prediction2[7].flatten()/1400,\n",
    "                    '9':prediction2[8].flatten()/1400,'10':prediction2[9].flatten()/1400})\n",
    "\n",
    "comp.to_excel(r'filename.xlsx')"
   ]
  },
  {
   "cell_type": "code",
   "execution_count": null,
   "id": "e88957ea",
   "metadata": {},
   "outputs": [],
   "source": [
    "# plot the results \n",
    "\n",
    "import matplotlib.pyplot as plt\n",
    "time = pd.Series(np.arange(1,len(real_tdee)+1,1))\n",
    "comp = pd.DataFrame({'time':time, 'real_TDEE':real_tdee.flatten()/1400, 'predicted_TDEE':np.mean(prediction2, axis = 0).flatten()/1400})\n",
    "\n",
    "\n",
    "for j in range(0,len(prediction2)):\n",
    "    plt.plot( comp['time'], prediction2[j].flatten()/1400, color = 'lightgrey', alpha = 0.8, linestyle = '--')\n",
    "plt.plot(comp['time'], comp['real_TDEE'], color = 'blue', label = 'Real EE')\n",
    "plt.plot(comp['time'], comp['predicted_TDEE'], color = 'red', label = 'Mean prediction EE', alpha = 0.8)\n",
    "plt.legend()"
   ]
  }
 ],
 "metadata": {
  "kernelspec": {
   "display_name": "tf-venv",
   "language": "python",
   "name": "tf-venv"
  },
  "language_info": {
   "codemirror_mode": {
    "name": "ipython",
    "version": 3
   },
   "file_extension": ".py",
   "mimetype": "text/x-python",
   "name": "python",
   "nbconvert_exporter": "python",
   "pygments_lexer": "ipython3",
   "version": "3.7.15"
  }
 },
 "nbformat": 4,
 "nbformat_minor": 5
}
